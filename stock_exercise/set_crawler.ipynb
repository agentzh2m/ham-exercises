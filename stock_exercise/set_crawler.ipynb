{
 "cells": [
  {
   "cell_type": "code",
   "execution_count": 23,
   "metadata": {},
   "outputs": [],
   "source": [
    "import requests\n",
    "from bs4 import BeautifulSoup\n",
    "import json\n",
    "import string\n",
    "import time\n",
    "from requests.adapters import HTTPAdapter\n",
    "import io\n",
    "import glob"
   ]
  },
  {
   "cell_type": "code",
   "execution_count": 5,
   "metadata": {},
   "outputs": [],
   "source": [
    "page = requests.get(\"https://www.set.or.th/set/companyprofile.do?symbol=ADVANC&ssoPageId=4&language=th&country=TH\")\n"
   ]
  },
  {
   "cell_type": "code",
   "execution_count": 6,
   "metadata": {},
   "outputs": [
    {
     "data": {
      "text/plain": [
       "[<div class=\"col-xs-9 col-md-5\">18.77                     </div>,\n",
       " <div class=\"col-xs-9 col-md-5\">3.59                     </div>,\n",
       " <div class=\"col-xs-9 col-md-5\">10.51                     </div>,\n",
       " <div class=\"col-xs-9 col-md-5\">585,699.78                     </div>,\n",
       " <div class=\"col-xs-9 col-md-5\">SET</div>,\n",
       " <div class=\"col-xs-9 col-md-5\">เทคโนโลยี</div>,\n",
       " <div class=\"col-xs-9 col-md-5\">เทคโนโลยีสารสนเทศและการสื่อสาร</div>,\n",
       " <div class=\"col-xs-9 col-md-5\">05 พ.ย. 2534</div>,\n",
       " <div class=\"col-xs-9 col-md-5\">1.00 บาท                         </div>,\n",
       " <div class=\"col-xs-9 col-md-5\">4,997,459,800.00 บาท</div>,\n",
       " <div class=\"col-xs-9 col-md-5\">2,973,095,330.00 บาท</div>,\n",
       " <div class=\"col-xs-9 col-md-5\"> - </div>,\n",
       " <div class=\"col-xs-9 col-md-5\"> - </div>]"
      ]
     },
     "execution_count": 6,
     "metadata": {},
     "output_type": "execute_result"
    }
   ],
   "source": [
    "soup = BeautifulSoup(page.content, 'html.parser')\n",
    "stock_code, thai_name = soup.findAll(\"div\", {\"class\": \"col-xs-12 col-md-12 col-lg-8\"})[0].h3.text.split(\" : \")\n",
    "soup.findAll(\"div\", {\"class\": \"col-xs-9 col-md-5\"})"
   ]
  },
  {
   "cell_type": "code",
   "execution_count": 63,
   "metadata": {},
   "outputs": [
    {
     "data": {
      "text/plain": [
       "('เทคโนโลยีสารสนเทศและการสื่อสาร',\n",
       " 'เทคโนโลยี',\n",
       " 1.0,\n",
       " 4997459800.0,\n",
       " 2973095330.0)"
      ]
     },
     "execution_count": 63,
     "metadata": {},
     "output_type": "execute_result"
    }
   ],
   "source": [
    "business_category = soup.findAll(\"div\", {\"class\": \"col-xs-9 col-md-5\"})[6].text.strip()\n",
    "industry_group = soup.findAll(\"div\", {\"class\": \"col-xs-9 col-md-5\"})[5].text.strip()\n",
    "par_price = float(soup.findAll(\"div\", {\"class\": \"col-xs-9 col-md-5\"})[8].text.strip().split(\" \")[0])\n",
    "registered_fund = float(soup.findAll(\"div\", {\"class\": \"col-xs-9 col-md-5\"})[9].text.strip().split(\" \")[0].replace(\",\", \"\"))\n",
    "net_registered_fund = float(soup.findAll(\"div\", {\"class\": \"col-xs-9 col-md-5\"})[10].text.strip(\" \").split(\" \")[0].replace(\",\", \"\"))\n",
    "business_category, industry_group, par_price, registered_fund, net_registered_fund"
   ]
  },
  {
   "cell_type": "code",
   "execution_count": 27,
   "metadata": {},
   "outputs": [],
   "source": [
    "high_stake_owner_page = requests.get(\"https://www.set.or.th/set/companyholder.do?symbol=ADVANC\")"
   ]
  },
  {
   "cell_type": "markdown",
   "metadata": {},
   "source": [
    "# How to hold info?\n",
    "\n",
    "list of dictionary\n",
    "where the key in the dictionary\n",
    "ranking, name, stock_amt, percentage\n"
   ]
  },
  {
   "cell_type": "code",
   "execution_count": 49,
   "metadata": {},
   "outputs": [
    {
     "data": {
      "text/plain": [
       "[{'ranking': 1,\n",
       "  'name': 'บริษัท อินทัช โฮลดิ้งส์ จำกัด (มหาชน)',\n",
       "  'stock_amt': 1202712000,\n",
       "  'percentage': 40.45},\n",
       " {'ranking': 2,\n",
       "  'name': 'SINGTEL STRATEGIC INVESTMENTS PTE LTD.',\n",
       "  'stock_amt': 693359000,\n",
       "  'percentage': 23.32},\n",
       " {'ranking': 3,\n",
       "  'name': 'บริษัท ไทยเอ็นวีดีอาร์ จำกัด',\n",
       "  'stock_amt': 172311185,\n",
       "  'percentage': 5.8},\n",
       " {'ranking': 4,\n",
       "  'name': 'SOUTH EAST ASIA UK (TYPE C) NOMINEES LIMITED',\n",
       "  'stock_amt': 123721953,\n",
       "  'percentage': 4.16},\n",
       " {'ranking': 5,\n",
       "  'name': 'สำนักงานประกันสังคม',\n",
       "  'stock_amt': 81587800,\n",
       "  'percentage': 2.74},\n",
       " {'ranking': 6,\n",
       "  'name': 'STATE STREET EUROPE LIMITED',\n",
       "  'stock_amt': 52949864,\n",
       "  'percentage': 1.78},\n",
       " {'ranking': 7,\n",
       "  'name': 'STATE STREET BANK AND TRUST COMPANY',\n",
       "  'stock_amt': 18601776,\n",
       "  'percentage': 0.63}]"
      ]
     },
     "execution_count": 49,
     "metadata": {},
     "output_type": "execute_result"
    }
   ],
   "source": [
    "stock_holder = []\n",
    "holders = stake_soup.findAll(\"tbody\")[0].findAll('tr')\n",
    "for holder in holders:\n",
    "    tds = holder.findAll('td')\n",
    "    info = dict()\n",
    "    info['ranking'] = int(tds[0].text.strip()[:-1])\n",
    "    info['name'] = tds[1].text.strip()\n",
    "    info['stock_amt'] = int(tds[2].text.replace(',', ''))\n",
    "    info['percentage'] = float(tds[3].text)\n",
    "    stock_holder.append(info)\n",
    "\n",
    "stock_holder"
   ]
  },
  {
   "cell_type": "markdown",
   "metadata": {},
   "source": [
    "# How to keep the data?\n",
    "\n",
    "\n",
    "a stock will have the following dictionary keys\n",
    "stock_code, thai_name, business_category, industry_group, par_price, registered_fund, net_registered_fund, stock_holders\n",
    "\n"
   ]
  },
  {
   "cell_type": "code",
   "execution_count": 3,
   "metadata": {},
   "outputs": [],
   "source": [
    "def stock_info(stock_code, s):\n",
    "    stock_prefix = stock_code.replace(\" \", \"+\").replace(\"&\", \"%26\")\n",
    "    stock_page = s.get(\"https://www.set.or.th/set/companyprofile.do?symbol={}\".format(stock_prefix), timeout=10)\n",
    "    stake_page = s.get(\"https://www.set.or.th/set/companyholder.do?symbol={}\".format(stock_prefix), timeout=10)\n",
    "    stock_soup = BeautifulSoup(stock_page.content, 'html.parser')\n",
    "    stake_soup = BeautifulSoup(stake_page.content, 'html.parser')\n",
    "    stock_code, thai_name = stock_soup.findAll(\"div\", {\"class\": \"col-xs-12 col-md-12 col-lg-8\"})[0].h3.text.split(\" : \")\n",
    "    market = stock_soup.findAll(\"div\", {\"class\": \"col-xs-9 col-md-5\"})[4].text.strip()\n",
    "    business_category = stock_soup.findAll(\"div\", {\"class\": \"col-xs-9 col-md-5\"})[6].text.strip()\n",
    "    industry_group = stock_soup.findAll(\"div\", {\"class\": \"col-xs-9 col-md-5\"})[5].text.strip()\n",
    "    par_price = float(stock_soup.findAll(\"div\", {\"class\": \"col-xs-9 col-md-5\"})[8].text.strip().split(\" \")[0])\n",
    "    registered_fund = float(stock_soup.findAll(\"div\", {\"class\": \"col-xs-9 col-md-5\"})[9].text.strip().split(\" \")[0].replace(\",\", \"\"))\n",
    "    net_registered_fund = float(stock_soup.findAll(\"div\", {\"class\": \"col-xs-9 col-md-5\"})[10].text.strip(\" \").split(\" \")[0].replace(\",\", \"\"))\n",
    "    info = dict(\n",
    "        stock_code=stock_code,\n",
    "        market=market,\n",
    "        thai_name=thai_name,\n",
    "        business_category=business_category,\n",
    "        industry_group=industry_group,\n",
    "        par_price=par_price,\n",
    "        registered_fund=registered_fund,\n",
    "        net_registered_fund=net_registered_fund\n",
    "    )\n",
    "    stock_holders = []\n",
    "    holders = stake_soup.findAll(\"tbody\")[0].findAll('tr')\n",
    "    for holder in holders:\n",
    "        tds = holder.findAll('td')\n",
    "        holder_info = dict()\n",
    "        holder_info['ranking'] = int(tds[0].text.strip()[:-1])\n",
    "        holder_info['name'] = tds[1].text.strip()\n",
    "        holder_info['stock_amt'] = int(tds[2].text.replace(',', ''))\n",
    "        holder_info['percentage'] = float(tds[3].text)\n",
    "        stock_holders.append(holder_info)\n",
    "    info['stake_holders'] = stock_holders\n",
    "    return info\n",
    "    "
   ]
  },
  {
   "cell_type": "code",
   "execution_count": 4,
   "metadata": {},
   "outputs": [],
   "source": [
    "def stock_list(prefix, s):\n",
    "    list_page = s.get('https://www.set.or.th/set/commonslookup.do?&prefix={}'.format(prefix))\n",
    "    list_soup = BeautifulSoup(list_page.content, 'html.parser')\n",
    "    stock_list = []\n",
    "    for stock in list_soup.findAll('table')[0].findAll('tr')[1:]:\n",
    "        tds = stock.findAll('td')\n",
    "        stock_list.append(tds[0].text.strip())\n",
    "    return stock_list\n",
    "\n"
   ]
  },
  {
   "cell_type": "code",
   "execution_count": 9,
   "metadata": {},
   "outputs": [
    {
     "data": {
      "text/plain": [
       "['T', 'U', 'V', 'W', 'X', 'Y', 'Z']"
      ]
     },
     "execution_count": 9,
     "metadata": {},
     "output_type": "execute_result"
    }
   ],
   "source": [
    "upper_letters = ['NUMBER'] + list(string.ascii_uppercase)\n",
    "upper_letters[3:]\n",
    "forbidden_name = {'CON', 'PRN', 'AUX', 'NUL', 'COM1', 'COM2', 'COM3', 'COM4', 'COM5', 'COM6', 'COM7', 'COM8', 'COM9', 'COM0',\n",
    "                 'LPT0', 'LPT1', 'LPT2', 'LPT3', 'LPT4', 'LPT5', 'LPT6', 'LPT7', 'LPT8', 'LPT9'}\n",
    "\n",
    "upper_letters[20:]\n"
   ]
  },
  {
   "cell_type": "code",
   "execution_count": 10,
   "metadata": {},
   "outputs": [
    {
     "name": "stdout",
     "output_type": "stream",
     "text": [
      "done TPRIME\n",
      "done TR\n",
      "done TRC\n",
      "done TREIT\n",
      "done TRITN\n",
      "done TRT\n",
      "done TRU\n",
      "done TRUBB\n",
      "done TRUE\n",
      "done TSC\n",
      "done TSE\n",
      "done TSF\n",
      "done TSI\n",
      "done TSR\n",
      "done TSTE\n",
      "done TSTH\n",
      "done TTA\n",
      "done TTCL\n",
      "done TTI\n",
      "done TTL\n",
      "done TTLPF\n",
      "done TTTM\n",
      "done TTW\n",
      "done TU\n",
      "done TU-PF\n",
      "done TVD\n",
      "done TVI\n",
      "done TVO\n",
      "done TVT\n",
      "done TWP\n",
      "done TWPC\n",
      "done TWZ\n",
      "done TYCN\n",
      "done U\n",
      "done UAC\n",
      "done UBIS\n",
      "done UEC\n",
      "done UKEM\n",
      "done UMI\n",
      "done UMS\n",
      "done UNIQ\n",
      "done UOBKH\n",
      "done UP\n",
      "done UPA\n",
      "done UPF\n",
      "done UPOIC\n",
      "done URBNPF\n",
      "done UREKA\n",
      "done UT\n",
      "done UTP\n",
      "done UV\n",
      "done UVAN\n",
      "done UWC\n",
      "done VARO\n",
      "done VCOM\n",
      "done VGI\n",
      "done VI\n",
      "done VIBHA\n",
      "done VIH\n",
      "done VNG\n",
      "done VNT\n",
      "done VPO\n",
      "done WACOAL\n",
      "done WAVE\n",
      "done WG\n",
      "done WHA\n",
      "done WHABT\n",
      "done WHART\n",
      "done WHAUP\n",
      "done WICE\n",
      "done WIIK\n",
      "done WIN\n",
      "done WINNER\n",
      "done WORK\n",
      "done WORLD\n",
      "done WP\n",
      "done WPH\n",
      "done WR\n",
      "done XO\n",
      "done YCI\n",
      "done YNP\n",
      "done YUASA\n",
      "done ZIGA\n",
      "done ZMICO\n"
     ]
    }
   ],
   "source": [
    "s = requests.Session()\n",
    "s.mount('https://www.set.or.th', HTTPAdapter(max_retries=5))\n",
    "for letter in upper_letters[20:]:\n",
    "    if letter == 'T':\n",
    "        st_lst = stock_list(letter,s)\n",
    "        st_lst = st_lst[st_lst.index('TPRIME'):]\n",
    "    else:\n",
    "        st_lst = stock_list(letter,s)\n",
    "    for stock_code in st_lst:\n",
    "        if stock_code in forbidden_name:\n",
    "            stock_code += \"_\"\n",
    "            print('forbidden windows name renaming with underscore at the end')\n",
    "        with io.open(\"stock_data/{}.json\".format(stock_code), 'w', encoding='utf8') as f:\n",
    "            if stock_code[:-1] in forbidden_name:\n",
    "                stock_code = stock_code[:-1]\n",
    "            json.dump(stock_info(stock_code, s), f, ensure_ascii=False)\n",
    "            stock_info(stock_code, s)\n",
    "            time.sleep(1)\n",
    "            print('done {}'.format(stock_code))\n",
    "    "
   ]
  },
  {
   "cell_type": "markdown",
   "metadata": {},
   "source": [
    "# Data Merge\n",
    "\n",
    "for ease of data analysis merge all the data into into a single json"
   ]
  },
  {
   "cell_type": "code",
   "execution_count": 22,
   "metadata": {},
   "outputs": [],
   "source": [
    "datas = {}\n",
    "for file in glob.iglob(\"stock_data/*.json\"):\n",
    "    with open(file, 'r', encoding='utf-8') as f:\n",
    "        try:\n",
    "            info = json.load(f)\n",
    "            datas[info['stock_code']] = info\n",
    "        except:\n",
    "            pass\n",
    "with io.open('all_stock.json', 'w', encoding='utf8') as f:\n",
    "    json.dump(datas, f, ensure_ascii=False)\n",
    "        "
   ]
  },
  {
   "cell_type": "code",
   "execution_count": null,
   "metadata": {},
   "outputs": [],
   "source": []
  }
 ],
 "metadata": {
  "kernelspec": {
   "display_name": "Python 3",
   "language": "python",
   "name": "python3"
  },
  "language_info": {
   "codemirror_mode": {
    "name": "ipython",
    "version": 3
   },
   "file_extension": ".py",
   "mimetype": "text/x-python",
   "name": "python",
   "nbconvert_exporter": "python",
   "pygments_lexer": "ipython3",
   "version": "3.7.0"
  }
 },
 "nbformat": 4,
 "nbformat_minor": 2
}
