{
 "cells": [
  {
   "cell_type": "code",
   "execution_count": 1,
   "metadata": {},
   "outputs": [],
   "source": [
    "import pandas as pd\n",
    "import numpy as np\n",
    "from matplotlib import pyplot as plt\n",
    "%matplotlib inline"
   ]
  },
  {
   "cell_type": "markdown",
   "metadata": {},
   "source": [
    "# Ham python practice pack v1\n",
    "\n",
    "Created by ham.net and Worapol B.\n",
    "\n",
    "**Q1 Ham is a Picky Eater**\n",
    "\n",
    "Ham love to eat apples. However, Ham is a picky person\n",
    "\n",
    "Therefore, your task is to make Ham happy, the first step is to distinguish between the Apple that Ham loves to eat. Ham like apple with the following property. \n",
    "\n",
    "* The apple need to be red, orange or purple\n",
    "* It must weigh more than 20g\n",
    "* It must be an apple from Japan\n",
    "* The apple need to be sweet and sour AND not bitter\n",
    "\n",
    "Implement the function call `def filter_apple(st)` where st is a string in the following format. The kid next door that record the apple cannot decide on a standard format therefore the string can have the following format\n",
    "\n",
    "* `\"w: weight in grams, c: color string, o: source of origin, t: list of apple taste\"`\n",
    " * i.e. `\"w:10, c:red, o:Thailand, t:bitter,sweet,sour,salty\"`\n",
    " * i.e. `\"c:green, t:sweet,sour, o:Japan, w:21\"`\n",
    " * notice how w,c,o and t does not need to be order\n",
    "\n",
    "* `\"color-color string;taste-<taste1,taste2, ...>;origin-source of origin/weight-weight;\"`\n",
    " * i.e. `\"color-red;taste-<sweet,sour,bitter,salty>;origin-Japan/weight-10;\"`\n",
    " * i.e. `\"weight-21;origin-Thailand;color-green/taste-<sweet,sour>;\"`\n",
    " * notice how color,taste,origin and weight does not need to be in order\n",
    " * Before the last attribute it will change from a semi colon (`;`) into a slash (`/`)\n",
    " \n",
    "Your function should return `True` if Ham like the Apple and return `False` if Ham hate the apple \n",
    "\n"
   ]
  },
  {
   "cell_type": "code",
   "execution_count": 2,
   "metadata": {},
   "outputs": [],
   "source": [
    "def filter_apple(st):\n",
    "    pass"
   ]
  },
  {
   "cell_type": "markdown",
   "metadata": {},
   "source": [
    "__Q2 Produce 48__\n",
    "\n",
    "Produce 48 is a Korean reality survival show to find the top 12 ranking trainee to debut in a new global girl group. The girls are join by both Korean and Japanese AKB group trainees (this includes AKB, HKT, NBT and etc.) Each week the girl are voted by the national producer (in this context the Korean citizen) each week to determine the ranking of the member. The trainee will be eliminated if their ranking fall below a certain threshold.\n",
    "\n",
    "Therefore, the national producer hire you to create their voting system! so that they can easily vote for their favourite members! (FYI: Ham favorite trainee is Nako).\n",
    "\n",
    "we will represent the trainee with the `Trainee` class (please look at the example code below) and we will represent the voting system as `WeeklyVote` class I have created a boiler plate for you below you task is to implement the missing function in the weekly vote class. "
   ]
  },
  {
   "cell_type": "code",
   "execution_count": 6,
   "metadata": {},
   "outputs": [],
   "source": [
    "class Trainee(object):\n",
    "    def __init__(self, name, agency, jap_name=None, kor_name=None):\n",
    "        self.name = name\n",
    "        self.agency= agency\n",
    "        self.jap_name=jap_name\n",
    "        self.kor_name=kor_name\n",
    "        \n",
    "    def __eq__(self, other):\n",
    "        return self.name == other.name and self.agency == other.agency\n",
    "    \n",
    "    def __str__(self):\n",
    "        return \"{}\\n{}\".format(self.name, self.agency)\n",
    "    \n",
    "    def __repr__(self):\n",
    "        return self.__str__()"
   ]
  },
  {
   "cell_type": "code",
   "execution_count": 8,
   "metadata": {},
   "outputs": [],
   "source": [
    "class WeeklyVote(object):\n",
    "    def __init__(self):\n",
    "        \"\"\"\n",
    "        You should think how should you store the votes, what kind\n",
    "        of data structure is good for storing the votes so that you can\n",
    "        easily find the ranking of the members\n",
    "        \"\"\"\n",
    "        pass\n",
    "    \n",
    "    def add_vote(self, trainee):\n",
    "        \"\"\"\n",
    "        Take in a trainee object and add the vote to the vote system\n",
    "        \"\"\"\n",
    "        pass \n",
    "    \n",
    "    def top_4(self):\n",
    "        \"\"\"\n",
    "        determine the leading 5 members rank from lowest to highest\n",
    "        return as a string for example Nako, Sakura, A, B, C \n",
    "        \"\"\"\n",
    "        pass\n",
    "    def top_10_pyramid(self):\n",
    "        \"\"\"\n",
    "        create a rating pyramid like in produce 48 with the top 10 members where the top \n",
    "        most member is the highest ranking and then the members are rank from the left with the highest ranking member\n",
    "        their agency should be at the button of their name \n",
    "        (hint: I have already done that for you in the trainee class)\n",
    "        example below:\n",
    "        \n",
    "                    Nako(1)\n",
    "                     HKT48\n",
    "                Sakura(2) Choyeon(3)\n",
    "                  HKT48      A Team\n",
    "            Dayeon(4) Yubin(5) Eunbin(6)\n",
    "               CNC       CNC      CNC\n",
    "        YuJeong(7) Yeji(8) Chowon(9) Haeyoon(10)\n",
    "           CNC       CNC     Cube       FNC\n",
    "        \"\"\"\n",
    "        pass\n",
    "    \n",
    "    def all_pyramid(self):\n",
    "        \"\"\"\n",
    "        Create a pyramid with all the member with the same format as top 10 pyramid each level of the pyramid\n",
    "        will grow wider by 1 member each time before it reaches the base of the pyramid.\n",
    "        \"\"\"\n",
    "    \n",
    "    def last_4(self, ranking_threshold):\n",
    "        \"\"\"\n",
    "        take in a ranking threshold and display the last 4 sorted from lowest ranking to highest ranking\n",
    "        the one with highest rank is the one with the same ranking as the ranking threshold\n",
    "        return as a string in the following format\n",
    "        \n",
    "        Ahyeong\n",
    "        Minseo\n",
    "        Ke\n",
    "        Minyoung\n",
    "        \"\"\"\n",
    "        pass"
   ]
  },
  {
   "cell_type": "markdown",
   "metadata": {},
   "source": [
    "__Q3 Ham's Apple Factory__ \n",
    "\n",
    "\n",
    "\n",
    "\n"
   ]
  },
  {
   "cell_type": "code",
   "execution_count": null,
   "metadata": {},
   "outputs": [],
   "source": []
  }
 ],
 "metadata": {
  "kernelspec": {
   "display_name": "Python 3",
   "language": "python",
   "name": "python3"
  },
  "language_info": {
   "codemirror_mode": {
    "name": "ipython",
    "version": 3
   },
   "file_extension": ".py",
   "mimetype": "text/x-python",
   "name": "python",
   "nbconvert_exporter": "python",
   "pygments_lexer": "ipython3",
   "version": "3.6.5"
  }
 },
 "nbformat": 4,
 "nbformat_minor": 2
}
